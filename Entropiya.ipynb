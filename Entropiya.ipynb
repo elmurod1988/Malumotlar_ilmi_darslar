{
  "nbformat": 4,
  "nbformat_minor": 0,
  "metadata": {
    "colab": {
      "provenance": [],
      "authorship_tag": "ABX9TyP+3G9Jzne1EP9BwW0Xug8C",
      "include_colab_link": true
    },
    "kernelspec": {
      "name": "python3",
      "display_name": "Python 3"
    },
    "language_info": {
      "name": "python"
    }
  },
  "cells": [
    {
      "cell_type": "markdown",
      "metadata": {
        "id": "view-in-github",
        "colab_type": "text"
      },
      "source": [
        "<a href=\"https://colab.research.google.com/github/elmurod1988/Semi-supervised-IRR/blob/master/Entropiya.ipynb\" target=\"_parent\"><img src=\"https://colab.research.google.com/assets/colab-badge.svg\" alt=\"Open In Colab\"/></a>"
      ]
    },
    {
      "cell_type": "markdown",
      "source": [
        "# <b>Masala:</b> Xonadagi 22 odamdan ixtiyoriy bittasi tanlab olinganda uning 5 mlndan ko'p oylik maosh olishini bashorat qilish\n",
        "<b>Entropiyani hisoblash formulasi </b>\n",
        "\n",
        "<img src=\"https://www.saedsayad.com/images/Entropy_3.png\">\n",
        "\n",
        "\n"
      ],
      "metadata": {
        "id": "trKdAOj6OqPx"
      }
    },
    {
      "cell_type": "code",
      "execution_count": 72,
      "metadata": {
        "id": "ub6yzu3dHti0"
      },
      "outputs": [],
      "source": [
        "\n",
        "# Entropiyani hisoblash funksiyasi\n",
        "import math\n",
        "def entropy(x,y):\n",
        "  px=x/(x+y)\n",
        "  py=y/(x+y)\n",
        "\n",
        "  # x ning ehtimolligi\n",
        "  print(f\"px={px}\")\n",
        "  # y ning ehtimolligi\n",
        "  print(f\"py={py}\")\n",
        "  return -(px*(math.log(px,2))+py*math.log(py,2))"
      ]
    },
    {
      "cell_type": "markdown",
      "source": [
        "# To'plamni umumiy entropiyasi (ota entropiya)"
      ],
      "metadata": {
        "id": "nDIeNLgRP0ba"
      }
    },
    {
      "cell_type": "code",
      "source": [
        "# Xonada 13 ta erkak va 9 ta ayol  bor edi\n",
        "a=int(input())\n",
        "b=int(input())\n",
        "ota_entropy=entropy(a,b)\n",
        "print(ota_entropy)\n"
      ],
      "metadata": {
        "colab": {
          "base_uri": "https://localhost:8080/"
        },
        "id": "1bRlvBpQPvDl",
        "outputId": "966f82f4-d9ac-4697-bc82-2685c7e76afb"
      },
      "execution_count": 73,
      "outputs": [
        {
          "output_type": "stream",
          "name": "stdout",
          "text": [
            "13\n",
            "9\n",
            "px=0.5909090909090909\n",
            "py=0.4090909090909091\n",
            "0.976020648236615\n"
          ]
        }
      ]
    },
    {
      "cell_type": "code",
      "source": [
        "19"
      ],
      "metadata": {
        "id": "R-wvjIItZCl5"
      },
      "execution_count": null,
      "outputs": []
    },
    {
      "cell_type": "markdown",
      "source": [
        "# Information gainni hisoblash uchun ota entropiyada bolalar o'rtacha entropiyasi ayriladi\n",
        "\n",
        "![image.png](data:image/png;base64,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)\n",
        ""
      ],
      "metadata": {
        "id": "dsYgvLU-P4bi"
      }
    },
    {
      "cell_type": "markdown",
      "source": [
        "#Bolalar entropiysini hisoblash"
      ],
      "metadata": {
        "id": "4R9otV3QTdye"
      }
    },
    {
      "cell_type": "code",
      "source": [
        "# Erkaklardan 8 tasi 5 mlndan ko'p maosh olardi\n",
        "#5 tasi esa kam. Ayollardan 3 tasi 5 mlndan ko'p maosh oladi 4 tasi esa kam\n",
        "\n",
        "# Erkaklardan to'g'ri va noto'g'ri bashorat qilinganlarni kiritsh\n",
        "print (\"Erkaklardan to'g'ri bashorat qilinganlar soni va noto'g'ri bashorat qilinganlar sonini kiriting\")\n",
        "e_tugri=int(input())\n",
        "e1_hato= int(input())\n",
        "bola_entropy1=entropy(e_tugri,e_hato)\n",
        "print(f\"bola entropiya1={bola_entropy1}\")\n",
        "\n",
        "# Ayollardan to'g'ri va noto'g'ri bashorat qilinganlarni kiritsh\n",
        "a_tugri=int(input())\n",
        "a_hato=int(input())\n",
        "print (\"Ayollardan to'g'ri bashorat qilinganlar soni va noto'g'ri bashorat qilinganlar sonini kiriting\")\n",
        "bola_entropy2=entropy(a_tugri, a_hato)\n",
        "print(f\"bola entropiya2={bola_entropy2}\")\n",
        "\n"
      ],
      "metadata": {
        "colab": {
          "base_uri": "https://localhost:8080/"
        },
        "id": "fDQP1AX_IsDw",
        "outputId": "bc0c6357-3f62-412c-bd78-eac4a405d0ae"
      },
      "execution_count": 74,
      "outputs": [
        {
          "output_type": "stream",
          "name": "stdout",
          "text": [
            "Erkaklardan to'g'ri bashorat qilinganlar soni va noto'g'ri bashorat qilinganlar sonini kiriting\n",
            "8\n",
            "5\n",
            "px=0.8888888888888888\n",
            "py=0.1111111111111111\n",
            "bola entropiya1=0.5032583347756457\n",
            "7\n",
            "2\n",
            "Ayollardan to'g'ri bashorat qilinganlar soni va noto'g'ri bashorat qilinganlar sonini kiriting\n",
            "px=0.7777777777777778\n",
            "py=0.2222222222222222\n",
            "bola entropiya1=0.7642045065086203\n"
          ]
        }
      ]
    },
    {
      "cell_type": "markdown",
      "source": [
        "#Bolalar o'rtacha entropiysini hisoblash"
      ],
      "metadata": {
        "id": "r6ub7h-ckZ6J"
      }
    },
    {
      "cell_type": "code",
      "source": [
        "avg_entropy_child=(e_tugri/(a+b)*bola_entropy1)+(a_tugri/(a+b)*bola_entropy2)\n",
        "\n",
        "print(avg_entropy_child)"
      ],
      "metadata": {
        "colab": {
          "base_uri": "https://localhost:8080/"
        },
        "id": "8utOqFcfQ4gf",
        "outputId": "fc6d7ff1-951e-4a0f-cfe1-5416664790da"
      },
      "execution_count": 75,
      "outputs": [
        {
          "output_type": "stream",
          "name": "stdout",
          "text": [
            "0.4261590101711594\n"
          ]
        }
      ]
    },
    {
      "cell_type": "code",
      "source": [
        "IG=ota_entropy-avg_entropy_child\n",
        "IG"
      ],
      "metadata": {
        "colab": {
          "base_uri": "https://localhost:8080/"
        },
        "id": "oR8ml3FDtby_",
        "outputId": "6db52c79-090f-42a9-bd94-7f89056bda3b"
      },
      "execution_count": 76,
      "outputs": [
        {
          "output_type": "execute_result",
          "data": {
            "text/plain": [
              "0.5498616380654556"
            ]
          },
          "metadata": {},
          "execution_count": 76
        }
      ]
    }
  ]
}